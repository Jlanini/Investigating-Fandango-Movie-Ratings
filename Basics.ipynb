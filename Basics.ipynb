{
 "cells": [
  {
   "cell_type": "markdown",
   "metadata": {
    "collapsed": true
   },
   "source": [
    "## Fandango's Movie Ratings: Should We Trust it Now?\n",
    "[*Fandago*](https://www.fandango.com/) is an American ticketing company that sells movie tickets via their website as well as through their mobile app, as reported by [*Wikipedia*](https://en.wikipedia.org/wiki/Fandango_(company)). \n",
    "In October 2015, a data journalist named Walt Hickey published an [article](https://fivethirtyeight.com/features/fandango-movies-ratings/) where he presents strong evidence to suggest that Fandango's rating system was biased and dishonest. In particular he found out a significant discrepancy between the number of stars, used in [Fandago](https://www.fandango.it) website to indicate the movie rate, and the actual rating, indicated in the HTML of the page. \n",
    "After this analysis Fandango's officials replied that the biased rounding off was caused by a bug and that they were going to fix it. Nowadays it is not possible to evaluate whether the bag has been fixed or not since the actual rating value doesn't seem to be displayed anymore in the pages' HTML.\n",
    "\n",
    "The **aim of this project** is to investigate determine whether there has been any change in Fandango's rating system after Hickey's analysis. We are going to do it by comparing a datasets related to the film ratings of Fandango and other popular websites before and after Hickey's analysis. "
   ]
  },
  {
   "cell_type": "markdown",
   "metadata": {},
   "source": [
    "### Summary of the Results"
   ]
  },
  {
   "cell_type": "markdown",
   "metadata": {},
   "source": [
    "Our analysis suggests that **there exist a variation of the film ratings** in Fandango between these two years and we reported that there was a **descrease in the mean ratings value in 2016 compared to the one in 2015**, however it is possible to notice that **Fandango mean rating value is always higher than the one of other popular websites**."
   ]
  },
  {
   "cell_type": "markdown",
   "metadata": {},
   "source": [
    "## Datasets evaluation"
   ]
  },
  {
   "cell_type": "markdown",
   "metadata": {},
   "source": [
    "Let us first import the needed libraries, as follows:"
   ]
  },
  {
   "cell_type": "code",
   "execution_count": 1,
   "metadata": {},
   "outputs": [],
   "source": [
    "# Import\n",
    "import os\n",
    "import pandas as pd\n",
    "import json\n",
    "import matplotlib\n",
    "import math\n",
    "import numpy as np\n",
    "import matplotlib.pyplot as plt\n",
    "import seaborn as sns    # seaborn is commonly imported as `sns`\n",
    "import matplotlib.pyplot as plt\n",
    "import warnings\n",
    "warnings.filterwarnings('ignore')"
   ]
  },
  {
   "cell_type": "markdown",
   "metadata": {},
   "source": [
    "In order to evaluate whether the Hickey's analysis brought Fandango website to revise their grading system we can compare Fandago's rating system before (available [on GitHub](https://github.com/fivethirtyeight/data/tree/master/fandango)) and after Hickey's analysis (available [on GitHub](https://github.com/mircealex/Movie_ratings_2016_17)). "
   ]
  },
  {
   "cell_type": "code",
   "execution_count": 2,
   "metadata": {},
   "outputs": [],
   "source": [
    "# Read Datasets\n",
    "previous_rating = pd.read_csv('fandango_score_comparison.csv')\n",
    "after_rating = pd.read_csv('movie_ratings_16_17.csv')"
   ]
  },
  {
   "cell_type": "code",
   "execution_count": 3,
   "metadata": {},
   "outputs": [
    {
     "data": {
      "text/html": [
       "<div>\n",
       "<style scoped>\n",
       "    .dataframe tbody tr th:only-of-type {\n",
       "        vertical-align: middle;\n",
       "    }\n",
       "\n",
       "    .dataframe tbody tr th {\n",
       "        vertical-align: top;\n",
       "    }\n",
       "\n",
       "    .dataframe thead th {\n",
       "        text-align: right;\n",
       "    }\n",
       "</style>\n",
       "<table border=\"1\" class=\"dataframe\">\n",
       "  <thead>\n",
       "    <tr style=\"text-align: right;\">\n",
       "      <th></th>\n",
       "      <th>FILM</th>\n",
       "      <th>RottenTomatoes</th>\n",
       "      <th>RottenTomatoes_User</th>\n",
       "      <th>Metacritic</th>\n",
       "      <th>Metacritic_User</th>\n",
       "      <th>IMDB</th>\n",
       "      <th>Fandango_Stars</th>\n",
       "      <th>Fandango_Ratingvalue</th>\n",
       "      <th>RT_norm</th>\n",
       "      <th>RT_user_norm</th>\n",
       "      <th>...</th>\n",
       "      <th>IMDB_norm</th>\n",
       "      <th>RT_norm_round</th>\n",
       "      <th>RT_user_norm_round</th>\n",
       "      <th>Metacritic_norm_round</th>\n",
       "      <th>Metacritic_user_norm_round</th>\n",
       "      <th>IMDB_norm_round</th>\n",
       "      <th>Metacritic_user_vote_count</th>\n",
       "      <th>IMDB_user_vote_count</th>\n",
       "      <th>Fandango_votes</th>\n",
       "      <th>Fandango_Difference</th>\n",
       "    </tr>\n",
       "  </thead>\n",
       "  <tbody>\n",
       "    <tr>\n",
       "      <th>0</th>\n",
       "      <td>Avengers: Age of Ultron (2015)</td>\n",
       "      <td>74</td>\n",
       "      <td>86</td>\n",
       "      <td>66</td>\n",
       "      <td>7.1</td>\n",
       "      <td>7.8</td>\n",
       "      <td>5.0</td>\n",
       "      <td>4.5</td>\n",
       "      <td>3.70</td>\n",
       "      <td>4.3</td>\n",
       "      <td>...</td>\n",
       "      <td>3.90</td>\n",
       "      <td>3.5</td>\n",
       "      <td>4.5</td>\n",
       "      <td>3.5</td>\n",
       "      <td>3.5</td>\n",
       "      <td>4.0</td>\n",
       "      <td>1330</td>\n",
       "      <td>271107</td>\n",
       "      <td>14846</td>\n",
       "      <td>0.5</td>\n",
       "    </tr>\n",
       "    <tr>\n",
       "      <th>1</th>\n",
       "      <td>Cinderella (2015)</td>\n",
       "      <td>85</td>\n",
       "      <td>80</td>\n",
       "      <td>67</td>\n",
       "      <td>7.5</td>\n",
       "      <td>7.1</td>\n",
       "      <td>5.0</td>\n",
       "      <td>4.5</td>\n",
       "      <td>4.25</td>\n",
       "      <td>4.0</td>\n",
       "      <td>...</td>\n",
       "      <td>3.55</td>\n",
       "      <td>4.5</td>\n",
       "      <td>4.0</td>\n",
       "      <td>3.5</td>\n",
       "      <td>4.0</td>\n",
       "      <td>3.5</td>\n",
       "      <td>249</td>\n",
       "      <td>65709</td>\n",
       "      <td>12640</td>\n",
       "      <td>0.5</td>\n",
       "    </tr>\n",
       "    <tr>\n",
       "      <th>2</th>\n",
       "      <td>Ant-Man (2015)</td>\n",
       "      <td>80</td>\n",
       "      <td>90</td>\n",
       "      <td>64</td>\n",
       "      <td>8.1</td>\n",
       "      <td>7.8</td>\n",
       "      <td>5.0</td>\n",
       "      <td>4.5</td>\n",
       "      <td>4.00</td>\n",
       "      <td>4.5</td>\n",
       "      <td>...</td>\n",
       "      <td>3.90</td>\n",
       "      <td>4.0</td>\n",
       "      <td>4.5</td>\n",
       "      <td>3.0</td>\n",
       "      <td>4.0</td>\n",
       "      <td>4.0</td>\n",
       "      <td>627</td>\n",
       "      <td>103660</td>\n",
       "      <td>12055</td>\n",
       "      <td>0.5</td>\n",
       "    </tr>\n",
       "    <tr>\n",
       "      <th>3</th>\n",
       "      <td>Do You Believe? (2015)</td>\n",
       "      <td>18</td>\n",
       "      <td>84</td>\n",
       "      <td>22</td>\n",
       "      <td>4.7</td>\n",
       "      <td>5.4</td>\n",
       "      <td>5.0</td>\n",
       "      <td>4.5</td>\n",
       "      <td>0.90</td>\n",
       "      <td>4.2</td>\n",
       "      <td>...</td>\n",
       "      <td>2.70</td>\n",
       "      <td>1.0</td>\n",
       "      <td>4.0</td>\n",
       "      <td>1.0</td>\n",
       "      <td>2.5</td>\n",
       "      <td>2.5</td>\n",
       "      <td>31</td>\n",
       "      <td>3136</td>\n",
       "      <td>1793</td>\n",
       "      <td>0.5</td>\n",
       "    </tr>\n",
       "    <tr>\n",
       "      <th>4</th>\n",
       "      <td>Hot Tub Time Machine 2 (2015)</td>\n",
       "      <td>14</td>\n",
       "      <td>28</td>\n",
       "      <td>29</td>\n",
       "      <td>3.4</td>\n",
       "      <td>5.1</td>\n",
       "      <td>3.5</td>\n",
       "      <td>3.0</td>\n",
       "      <td>0.70</td>\n",
       "      <td>1.4</td>\n",
       "      <td>...</td>\n",
       "      <td>2.55</td>\n",
       "      <td>0.5</td>\n",
       "      <td>1.5</td>\n",
       "      <td>1.5</td>\n",
       "      <td>1.5</td>\n",
       "      <td>2.5</td>\n",
       "      <td>88</td>\n",
       "      <td>19560</td>\n",
       "      <td>1021</td>\n",
       "      <td>0.5</td>\n",
       "    </tr>\n",
       "  </tbody>\n",
       "</table>\n",
       "<p>5 rows × 22 columns</p>\n",
       "</div>"
      ],
      "text/plain": [
       "                             FILM  RottenTomatoes  RottenTomatoes_User  \\\n",
       "0  Avengers: Age of Ultron (2015)              74                   86   \n",
       "1               Cinderella (2015)              85                   80   \n",
       "2                  Ant-Man (2015)              80                   90   \n",
       "3          Do You Believe? (2015)              18                   84   \n",
       "4   Hot Tub Time Machine 2 (2015)              14                   28   \n",
       "\n",
       "   Metacritic  Metacritic_User  IMDB  Fandango_Stars  Fandango_Ratingvalue  \\\n",
       "0          66              7.1   7.8             5.0                   4.5   \n",
       "1          67              7.5   7.1             5.0                   4.5   \n",
       "2          64              8.1   7.8             5.0                   4.5   \n",
       "3          22              4.7   5.4             5.0                   4.5   \n",
       "4          29              3.4   5.1             3.5                   3.0   \n",
       "\n",
       "   RT_norm  RT_user_norm         ...           IMDB_norm  RT_norm_round  \\\n",
       "0     3.70           4.3         ...                3.90            3.5   \n",
       "1     4.25           4.0         ...                3.55            4.5   \n",
       "2     4.00           4.5         ...                3.90            4.0   \n",
       "3     0.90           4.2         ...                2.70            1.0   \n",
       "4     0.70           1.4         ...                2.55            0.5   \n",
       "\n",
       "   RT_user_norm_round  Metacritic_norm_round  Metacritic_user_norm_round  \\\n",
       "0                 4.5                    3.5                         3.5   \n",
       "1                 4.0                    3.5                         4.0   \n",
       "2                 4.5                    3.0                         4.0   \n",
       "3                 4.0                    1.0                         2.5   \n",
       "4                 1.5                    1.5                         1.5   \n",
       "\n",
       "   IMDB_norm_round  Metacritic_user_vote_count  IMDB_user_vote_count  \\\n",
       "0              4.0                        1330                271107   \n",
       "1              3.5                         249                 65709   \n",
       "2              4.0                         627                103660   \n",
       "3              2.5                          31                  3136   \n",
       "4              2.5                          88                 19560   \n",
       "\n",
       "   Fandango_votes  Fandango_Difference  \n",
       "0           14846                  0.5  \n",
       "1           12640                  0.5  \n",
       "2           12055                  0.5  \n",
       "3            1793                  0.5  \n",
       "4            1021                  0.5  \n",
       "\n",
       "[5 rows x 22 columns]"
      ]
     },
     "execution_count": 3,
     "metadata": {},
     "output_type": "execute_result"
    }
   ],
   "source": [
    "# Check dataframe\n",
    "previous_rating.head()"
   ]
  },
  {
   "cell_type": "markdown",
   "metadata": {},
   "source": [
    "As one can find in the correspondent Github repository, the 22 columns of *previous_rating* dataframe store numbers (*int64* and *float64*) and the film title. The same can be said for the *after_rating* dataframe. "
   ]
  },
  {
   "cell_type": "code",
   "execution_count": 4,
   "metadata": {},
   "outputs": [
    {
     "data": {
      "text/html": [
       "<div>\n",
       "<style scoped>\n",
       "    .dataframe tbody tr th:only-of-type {\n",
       "        vertical-align: middle;\n",
       "    }\n",
       "\n",
       "    .dataframe tbody tr th {\n",
       "        vertical-align: top;\n",
       "    }\n",
       "\n",
       "    .dataframe thead th {\n",
       "        text-align: right;\n",
       "    }\n",
       "</style>\n",
       "<table border=\"1\" class=\"dataframe\">\n",
       "  <thead>\n",
       "    <tr style=\"text-align: right;\">\n",
       "      <th></th>\n",
       "      <th>movie</th>\n",
       "      <th>year</th>\n",
       "      <th>metascore</th>\n",
       "      <th>imdb</th>\n",
       "      <th>tmeter</th>\n",
       "      <th>audience</th>\n",
       "      <th>fandango</th>\n",
       "      <th>n_metascore</th>\n",
       "      <th>n_imdb</th>\n",
       "      <th>n_tmeter</th>\n",
       "      <th>n_audience</th>\n",
       "      <th>nr_metascore</th>\n",
       "      <th>nr_imdb</th>\n",
       "      <th>nr_tmeter</th>\n",
       "      <th>nr_audience</th>\n",
       "    </tr>\n",
       "  </thead>\n",
       "  <tbody>\n",
       "    <tr>\n",
       "      <th>0</th>\n",
       "      <td>10 Cloverfield Lane</td>\n",
       "      <td>2016</td>\n",
       "      <td>76</td>\n",
       "      <td>7.2</td>\n",
       "      <td>90</td>\n",
       "      <td>79</td>\n",
       "      <td>3.5</td>\n",
       "      <td>3.80</td>\n",
       "      <td>3.60</td>\n",
       "      <td>4.50</td>\n",
       "      <td>3.95</td>\n",
       "      <td>4.0</td>\n",
       "      <td>3.5</td>\n",
       "      <td>4.5</td>\n",
       "      <td>4.0</td>\n",
       "    </tr>\n",
       "    <tr>\n",
       "      <th>1</th>\n",
       "      <td>13 Hours</td>\n",
       "      <td>2016</td>\n",
       "      <td>48</td>\n",
       "      <td>7.3</td>\n",
       "      <td>50</td>\n",
       "      <td>83</td>\n",
       "      <td>4.5</td>\n",
       "      <td>2.40</td>\n",
       "      <td>3.65</td>\n",
       "      <td>2.50</td>\n",
       "      <td>4.15</td>\n",
       "      <td>2.5</td>\n",
       "      <td>3.5</td>\n",
       "      <td>2.5</td>\n",
       "      <td>4.0</td>\n",
       "    </tr>\n",
       "    <tr>\n",
       "      <th>2</th>\n",
       "      <td>A Cure for Wellness</td>\n",
       "      <td>2016</td>\n",
       "      <td>47</td>\n",
       "      <td>6.6</td>\n",
       "      <td>40</td>\n",
       "      <td>47</td>\n",
       "      <td>3.0</td>\n",
       "      <td>2.35</td>\n",
       "      <td>3.30</td>\n",
       "      <td>2.00</td>\n",
       "      <td>2.35</td>\n",
       "      <td>2.5</td>\n",
       "      <td>3.5</td>\n",
       "      <td>2.0</td>\n",
       "      <td>2.5</td>\n",
       "    </tr>\n",
       "    <tr>\n",
       "      <th>3</th>\n",
       "      <td>A Dog's Purpose</td>\n",
       "      <td>2017</td>\n",
       "      <td>43</td>\n",
       "      <td>5.2</td>\n",
       "      <td>33</td>\n",
       "      <td>76</td>\n",
       "      <td>4.5</td>\n",
       "      <td>2.15</td>\n",
       "      <td>2.60</td>\n",
       "      <td>1.65</td>\n",
       "      <td>3.80</td>\n",
       "      <td>2.0</td>\n",
       "      <td>2.5</td>\n",
       "      <td>1.5</td>\n",
       "      <td>4.0</td>\n",
       "    </tr>\n",
       "    <tr>\n",
       "      <th>4</th>\n",
       "      <td>A Hologram for the King</td>\n",
       "      <td>2016</td>\n",
       "      <td>58</td>\n",
       "      <td>6.1</td>\n",
       "      <td>70</td>\n",
       "      <td>57</td>\n",
       "      <td>3.0</td>\n",
       "      <td>2.90</td>\n",
       "      <td>3.05</td>\n",
       "      <td>3.50</td>\n",
       "      <td>2.85</td>\n",
       "      <td>3.0</td>\n",
       "      <td>3.0</td>\n",
       "      <td>3.5</td>\n",
       "      <td>3.0</td>\n",
       "    </tr>\n",
       "  </tbody>\n",
       "</table>\n",
       "</div>"
      ],
      "text/plain": [
       "                     movie  year  metascore  imdb  tmeter  audience  fandango  \\\n",
       "0      10 Cloverfield Lane  2016         76   7.2      90        79       3.5   \n",
       "1                 13 Hours  2016         48   7.3      50        83       4.5   \n",
       "2      A Cure for Wellness  2016         47   6.6      40        47       3.0   \n",
       "3          A Dog's Purpose  2017         43   5.2      33        76       4.5   \n",
       "4  A Hologram for the King  2016         58   6.1      70        57       3.0   \n",
       "\n",
       "   n_metascore  n_imdb  n_tmeter  n_audience  nr_metascore  nr_imdb  \\\n",
       "0         3.80    3.60      4.50        3.95           4.0      3.5   \n",
       "1         2.40    3.65      2.50        4.15           2.5      3.5   \n",
       "2         2.35    3.30      2.00        2.35           2.5      3.5   \n",
       "3         2.15    2.60      1.65        3.80           2.0      2.5   \n",
       "4         2.90    3.05      3.50        2.85           3.0      3.0   \n",
       "\n",
       "   nr_tmeter  nr_audience  \n",
       "0        4.5          4.0  \n",
       "1        2.5          4.0  \n",
       "2        2.0          2.5  \n",
       "3        1.5          4.0  \n",
       "4        3.5          3.0  "
      ]
     },
     "execution_count": 4,
     "metadata": {},
     "output_type": "execute_result"
    }
   ],
   "source": [
    "#Check dataframe\n",
    "after_rating.head()"
   ]
  },
  {
   "cell_type": "markdown",
   "metadata": {},
   "source": [
    "For our analysis we can select specific columns of interest mainly related to the title of film under analysis, the corresponding rating reported in Fandango webpage and in other two famous websites for film ratings, which are [IMDB](https://www.imdb.com) and [RottenTomatoes](https://www.rottentomatoes.com); moreover in the *previous_rating* dataframe the 'true' rating value is included in the analysis (different from the 'reported' one) and in the *after_rating* dataframe the year related to the film is added."
   ]
  },
  {
   "cell_type": "code",
   "execution_count": 5,
   "metadata": {},
   "outputs": [],
   "source": [
    "# Select the columns under analysis\n",
    "previous= previous_rating[['FILM', 'Fandango_Stars', 'Fandango_Ratingvalue', 'Fandango_votes',\n",
    "                             'Fandango_Difference', 'IMDB_norm', 'RT_user_norm']].copy()\n",
    "after = after_rating[['movie', 'year', 'fandango', 'n_imdb', 'n_audience']].copy()"
   ]
  },
  {
   "cell_type": "markdown",
   "metadata": {},
   "source": [
    "In *after_rating* dataframe the column 'n_audience' refer to the Rotten Tomatoes user score normalized to a 0-5 scale. So in order to make it clearer we can change the columns name"
   ]
  },
  {
   "cell_type": "code",
   "execution_count": 6,
   "metadata": {},
   "outputs": [],
   "source": [
    "after.rename(columns = {'n_audience':'rottenTomatoes_2016'}, inplace = True)"
   ]
  },
  {
   "cell_type": "markdown",
   "metadata": {},
   "source": [
    "Moreover other columns names can be changed for simplicity. "
   ]
  },
  {
   "cell_type": "code",
   "execution_count": 7,
   "metadata": {},
   "outputs": [],
   "source": [
    "after.rename(columns = {'n_imdb':'imdb_2016', 'fandango':'fandango_2016'}, inplace = True)\n",
    "previous.rename(columns = {'Fandango_Stars':'fandango_2015', 'IMDB_norm':'imdb_2015', 'RT_user_norm':'rottenTomatoes_2015'}, inplace = True)"
   ]
  },
  {
   "cell_type": "markdown",
   "metadata": {},
   "source": [
    "## Considerations on the data"
   ]
  },
  {
   "cell_type": "markdown",
   "metadata": {},
   "source": [
    "The population of interest for our goal is represented by all the film ratings presented in Fandago. Since we want to make a comparison on two specific period (before and after Hickey's analysis), we need to sample film ratings which are related to those periods and that are common to the websites we want to compare. In the datasets we have the sampling of film to consider was not done in a random way but according to specific criterions (significant number of votes, the fact that the evaluated ratings belong to films analyzed in all the websites under analysis and that the films belong to specific years and not in general to an extensive period before and after Hickey's analysis). This means that the resulting samples are very unlikely to be representative of the population we're interested in describing since thay can be probably subjected to temporal trends.\n",
    "\n",
    "Since it would be very hard to collect new samples previous to Hickey's analysis we could place some limitations in the analysis we want to conduct. In particular we can **constrain our analysis only on the periods 2015-2016, without inferring to the entire periods before and after Hickey's paper. **"
   ]
  },
  {
   "cell_type": "markdown",
   "metadata": {},
   "source": [
    "### Isolating films belonging to the years 2015-1026"
   ]
  },
  {
   "cell_type": "code",
   "execution_count": 8,
   "metadata": {},
   "outputs": [],
   "source": [
    "# Define a function useful for processing dataframes\n",
    "def ExtractYear(s):\n",
    "    return s[s.find(\"(\")+1:s.find(\")\")]"
   ]
  },
  {
   "cell_type": "code",
   "execution_count": 9,
   "metadata": {},
   "outputs": [],
   "source": [
    "# Let's check whether all the movies analyzed in \"previous\" \n",
    "#dataframe are related to the period 2015\n",
    "previous['FILM_year'] = previous['FILM'].apply(ExtractYear)\n",
    "ratings_2015 = previous[previous.FILM_year == '2015']"
   ]
  },
  {
   "cell_type": "code",
   "execution_count": 10,
   "metadata": {},
   "outputs": [],
   "source": [
    "# Let's do the same thing for after\n",
    "ratings_2016 = after[after['year'] == 2016]"
   ]
  },
  {
   "cell_type": "code",
   "execution_count": 11,
   "metadata": {},
   "outputs": [
    {
     "data": {
      "text/html": [
       "<div>\n",
       "<style scoped>\n",
       "    .dataframe tbody tr th:only-of-type {\n",
       "        vertical-align: middle;\n",
       "    }\n",
       "\n",
       "    .dataframe tbody tr th {\n",
       "        vertical-align: top;\n",
       "    }\n",
       "\n",
       "    .dataframe thead th {\n",
       "        text-align: right;\n",
       "    }\n",
       "</style>\n",
       "<table border=\"1\" class=\"dataframe\">\n",
       "  <thead>\n",
       "    <tr style=\"text-align: right;\">\n",
       "      <th></th>\n",
       "      <th>FILM</th>\n",
       "      <th>fandango_2015</th>\n",
       "      <th>Fandango_Ratingvalue</th>\n",
       "      <th>Fandango_votes</th>\n",
       "      <th>Fandango_Difference</th>\n",
       "      <th>imdb_2015</th>\n",
       "      <th>rottenTomatoes_2015</th>\n",
       "      <th>FILM_year</th>\n",
       "    </tr>\n",
       "  </thead>\n",
       "  <tbody>\n",
       "    <tr>\n",
       "      <th>0</th>\n",
       "      <td>Avengers: Age of Ultron (2015)</td>\n",
       "      <td>5.0</td>\n",
       "      <td>4.5</td>\n",
       "      <td>14846</td>\n",
       "      <td>0.5</td>\n",
       "      <td>3.90</td>\n",
       "      <td>4.3</td>\n",
       "      <td>2015</td>\n",
       "    </tr>\n",
       "    <tr>\n",
       "      <th>1</th>\n",
       "      <td>Cinderella (2015)</td>\n",
       "      <td>5.0</td>\n",
       "      <td>4.5</td>\n",
       "      <td>12640</td>\n",
       "      <td>0.5</td>\n",
       "      <td>3.55</td>\n",
       "      <td>4.0</td>\n",
       "      <td>2015</td>\n",
       "    </tr>\n",
       "    <tr>\n",
       "      <th>2</th>\n",
       "      <td>Ant-Man (2015)</td>\n",
       "      <td>5.0</td>\n",
       "      <td>4.5</td>\n",
       "      <td>12055</td>\n",
       "      <td>0.5</td>\n",
       "      <td>3.90</td>\n",
       "      <td>4.5</td>\n",
       "      <td>2015</td>\n",
       "    </tr>\n",
       "    <tr>\n",
       "      <th>3</th>\n",
       "      <td>Do You Believe? (2015)</td>\n",
       "      <td>5.0</td>\n",
       "      <td>4.5</td>\n",
       "      <td>1793</td>\n",
       "      <td>0.5</td>\n",
       "      <td>2.70</td>\n",
       "      <td>4.2</td>\n",
       "      <td>2015</td>\n",
       "    </tr>\n",
       "    <tr>\n",
       "      <th>4</th>\n",
       "      <td>Hot Tub Time Machine 2 (2015)</td>\n",
       "      <td>3.5</td>\n",
       "      <td>3.0</td>\n",
       "      <td>1021</td>\n",
       "      <td>0.5</td>\n",
       "      <td>2.55</td>\n",
       "      <td>1.4</td>\n",
       "      <td>2015</td>\n",
       "    </tr>\n",
       "  </tbody>\n",
       "</table>\n",
       "</div>"
      ],
      "text/plain": [
       "                             FILM  fandango_2015  Fandango_Ratingvalue  \\\n",
       "0  Avengers: Age of Ultron (2015)            5.0                   4.5   \n",
       "1               Cinderella (2015)            5.0                   4.5   \n",
       "2                  Ant-Man (2015)            5.0                   4.5   \n",
       "3          Do You Believe? (2015)            5.0                   4.5   \n",
       "4   Hot Tub Time Machine 2 (2015)            3.5                   3.0   \n",
       "\n",
       "   Fandango_votes  Fandango_Difference  imdb_2015  rottenTomatoes_2015  \\\n",
       "0           14846                  0.5       3.90                  4.3   \n",
       "1           12640                  0.5       3.55                  4.0   \n",
       "2           12055                  0.5       3.90                  4.5   \n",
       "3            1793                  0.5       2.70                  4.2   \n",
       "4            1021                  0.5       2.55                  1.4   \n",
       "\n",
       "  FILM_year  \n",
       "0      2015  \n",
       "1      2015  \n",
       "2      2015  \n",
       "3      2015  \n",
       "4      2015  "
      ]
     },
     "execution_count": 11,
     "metadata": {},
     "output_type": "execute_result"
    }
   ],
   "source": [
    "ratings_2015.head()"
   ]
  },
  {
   "cell_type": "code",
   "execution_count": 12,
   "metadata": {},
   "outputs": [
    {
     "data": {
      "text/html": [
       "<div>\n",
       "<style scoped>\n",
       "    .dataframe tbody tr th:only-of-type {\n",
       "        vertical-align: middle;\n",
       "    }\n",
       "\n",
       "    .dataframe tbody tr th {\n",
       "        vertical-align: top;\n",
       "    }\n",
       "\n",
       "    .dataframe thead th {\n",
       "        text-align: right;\n",
       "    }\n",
       "</style>\n",
       "<table border=\"1\" class=\"dataframe\">\n",
       "  <thead>\n",
       "    <tr style=\"text-align: right;\">\n",
       "      <th></th>\n",
       "      <th>movie</th>\n",
       "      <th>year</th>\n",
       "      <th>fandango_2016</th>\n",
       "      <th>imdb_2016</th>\n",
       "      <th>rottenTomatoes_2016</th>\n",
       "    </tr>\n",
       "  </thead>\n",
       "  <tbody>\n",
       "    <tr>\n",
       "      <th>0</th>\n",
       "      <td>10 Cloverfield Lane</td>\n",
       "      <td>2016</td>\n",
       "      <td>3.5</td>\n",
       "      <td>3.60</td>\n",
       "      <td>3.95</td>\n",
       "    </tr>\n",
       "    <tr>\n",
       "      <th>1</th>\n",
       "      <td>13 Hours</td>\n",
       "      <td>2016</td>\n",
       "      <td>4.5</td>\n",
       "      <td>3.65</td>\n",
       "      <td>4.15</td>\n",
       "    </tr>\n",
       "    <tr>\n",
       "      <th>2</th>\n",
       "      <td>A Cure for Wellness</td>\n",
       "      <td>2016</td>\n",
       "      <td>3.0</td>\n",
       "      <td>3.30</td>\n",
       "      <td>2.35</td>\n",
       "    </tr>\n",
       "    <tr>\n",
       "      <th>4</th>\n",
       "      <td>A Hologram for the King</td>\n",
       "      <td>2016</td>\n",
       "      <td>3.0</td>\n",
       "      <td>3.05</td>\n",
       "      <td>2.85</td>\n",
       "    </tr>\n",
       "    <tr>\n",
       "      <th>5</th>\n",
       "      <td>A Monster Calls</td>\n",
       "      <td>2016</td>\n",
       "      <td>4.0</td>\n",
       "      <td>3.75</td>\n",
       "      <td>4.20</td>\n",
       "    </tr>\n",
       "  </tbody>\n",
       "</table>\n",
       "</div>"
      ],
      "text/plain": [
       "                     movie  year  fandango_2016  imdb_2016  \\\n",
       "0      10 Cloverfield Lane  2016            3.5       3.60   \n",
       "1                 13 Hours  2016            4.5       3.65   \n",
       "2      A Cure for Wellness  2016            3.0       3.30   \n",
       "4  A Hologram for the King  2016            3.0       3.05   \n",
       "5          A Monster Calls  2016            4.0       3.75   \n",
       "\n",
       "   rottenTomatoes_2016  \n",
       "0                 3.95  \n",
       "1                 4.15  \n",
       "2                 2.35  \n",
       "4                 2.85  \n",
       "5                 4.20  "
      ]
     },
     "execution_count": 12,
     "metadata": {},
     "output_type": "execute_result"
    }
   ],
   "source": [
    "ratings_2016.head()"
   ]
  },
  {
   "cell_type": "markdown",
   "metadata": {},
   "source": [
    "## Samples consistency"
   ]
  },
  {
   "cell_type": "markdown",
   "metadata": {
    "collapsed": true
   },
   "source": [
    "In order to be consistent the two datasets (the one of 2016 and the one of 2015) should contain film ratings released by the same number of users. In the case of the *ratings_2015* dataset the films collected were the ones reviewed by at least 30 fan; however in the *ratings_2016* dataframe such a detail is not specify: it is just indicated that the collected movies were the most popular ones. We could in principle double check this by randomly sampling 10 films of *ratings_2016* dataframe and manually check in *fandango* webpage to see whether the votes obtained by the selected film is at least 30. "
   ]
  },
  {
   "cell_type": "code",
   "execution_count": 13,
   "metadata": {},
   "outputs": [],
   "source": [
    "random_films = ratings_2016.sample(n=10, random_state = 1).movie.to_frame().reset_index()"
   ]
  },
  {
   "cell_type": "code",
   "execution_count": 14,
   "metadata": {},
   "outputs": [],
   "source": [
    "random_films.drop(['index'], axis=1, inplace= True)"
   ]
  },
  {
   "cell_type": "markdown",
   "metadata": {},
   "source": [
    "From Fandango [webpage](https://www.fandango.com/) we can easily associate for each randomly sampled film of 2016 the corresponding number of users that rated the film."
   ]
  },
  {
   "cell_type": "code",
   "execution_count": 15,
   "metadata": {},
   "outputs": [],
   "source": [
    "random_films ['n_votes'] = [335, 2245, 6218,383, 4011, 1818, 44750, 4086, 3473, 4843]"
   ]
  },
  {
   "cell_type": "code",
   "execution_count": 16,
   "metadata": {},
   "outputs": [
    {
     "data": {
      "text/html": [
       "<div>\n",
       "<style scoped>\n",
       "    .dataframe tbody tr th:only-of-type {\n",
       "        vertical-align: middle;\n",
       "    }\n",
       "\n",
       "    .dataframe tbody tr th {\n",
       "        vertical-align: top;\n",
       "    }\n",
       "\n",
       "    .dataframe thead th {\n",
       "        text-align: right;\n",
       "    }\n",
       "</style>\n",
       "<table border=\"1\" class=\"dataframe\">\n",
       "  <thead>\n",
       "    <tr style=\"text-align: right;\">\n",
       "      <th></th>\n",
       "      <th>movie</th>\n",
       "      <th>n_votes</th>\n",
       "    </tr>\n",
       "  </thead>\n",
       "  <tbody>\n",
       "    <tr>\n",
       "      <th>0</th>\n",
       "      <td>Collide</td>\n",
       "      <td>335</td>\n",
       "    </tr>\n",
       "    <tr>\n",
       "      <th>1</th>\n",
       "      <td>Ice Age: Collision Course</td>\n",
       "      <td>2245</td>\n",
       "    </tr>\n",
       "    <tr>\n",
       "      <th>2</th>\n",
       "      <td>Now You See Me 2</td>\n",
       "      <td>6218</td>\n",
       "    </tr>\n",
       "    <tr>\n",
       "      <th>3</th>\n",
       "      <td>The Disappointments Room</td>\n",
       "      <td>383</td>\n",
       "    </tr>\n",
       "    <tr>\n",
       "      <th>4</th>\n",
       "      <td>Kubo and the Two Strings</td>\n",
       "      <td>4011</td>\n",
       "    </tr>\n",
       "    <tr>\n",
       "      <th>5</th>\n",
       "      <td>Pride and Prejudice and Zombies</td>\n",
       "      <td>1818</td>\n",
       "    </tr>\n",
       "    <tr>\n",
       "      <th>6</th>\n",
       "      <td>Deadpool</td>\n",
       "      <td>44750</td>\n",
       "    </tr>\n",
       "    <tr>\n",
       "      <th>7</th>\n",
       "      <td>Money Monster</td>\n",
       "      <td>4086</td>\n",
       "    </tr>\n",
       "    <tr>\n",
       "      <th>8</th>\n",
       "      <td>War Dogs</td>\n",
       "      <td>3473</td>\n",
       "    </tr>\n",
       "    <tr>\n",
       "      <th>9</th>\n",
       "      <td>Miracles from Heaven</td>\n",
       "      <td>4843</td>\n",
       "    </tr>\n",
       "  </tbody>\n",
       "</table>\n",
       "</div>"
      ],
      "text/plain": [
       "                             movie  n_votes\n",
       "0                          Collide      335\n",
       "1        Ice Age: Collision Course     2245\n",
       "2                 Now You See Me 2     6218\n",
       "3         The Disappointments Room      383\n",
       "4         Kubo and the Two Strings     4011\n",
       "5  Pride and Prejudice and Zombies     1818\n",
       "6                         Deadpool    44750\n",
       "7                    Money Monster     4086\n",
       "8                         War Dogs     3473\n",
       "9             Miracles from Heaven     4843"
      ]
     },
     "execution_count": 16,
     "metadata": {},
     "output_type": "execute_result"
    }
   ],
   "source": [
    "random_films"
   ]
  },
  {
   "cell_type": "markdown",
   "metadata": {},
   "source": [
    "As you can see the number of users that rated each of the 10 randomly sample films were more than 30."
   ]
  },
  {
   "cell_type": "markdown",
   "metadata": {},
   "source": [
    "## How the Ratings Changed from 2015 to 2016"
   ]
  },
  {
   "cell_type": "markdown",
   "metadata": {},
   "source": [
    "In order to determine whether there is any differences between Fandago's rating of popular movies in 2015 and 2016 (before and after Hickey's analysis), we can start by just looking at the kernel density plot of the ratings."
   ]
  },
  {
   "cell_type": "code",
   "execution_count": 17,
   "metadata": {},
   "outputs": [
    {
     "data": {
      "image/png": "[encoded data removed]",
      "text/plain": [
       "<Figure size 648x360 with 1 Axes>"
      ]
     },
     "metadata": {
      "needs_background": "light"
     },
     "output_type": "display_data"
    }
   ],
   "source": [
    "# Compute the kernel density plot\n",
    "plt.figure(figsize=(9,5))\n",
    "plt.style.use('fivethirtyeight')\n",
    "sns.kdeplot(ratings_2016[\"fandango_2016\"], shade = True)\n",
    "sns.kdeplot(ratings_2015[\"fandango_2015\"], shade = True)\n",
    "plt.xlabel('Rating Scale')\n",
    "plt.xticks(np.arange(0, 6, step=0.5))\n",
    "plt.xlim([0, 5])\n",
    "plt.title('Ratings Distribution')\n",
    "sns.set(font_scale=2)\n",
    "plt.show()\n"
   ]
  },
  {
   "cell_type": "markdown",
   "metadata": {},
   "source": [
    "The distributions of ratings in the two time periods (2015-2016) show that before Hickey's analysis, in particular in year 2015, Fandango's film rating was slightly higher that the one after such an analysis, in particular in year 2016. In fact in 2016 most of the films had a vote of 4.0 (in a scale of [0,5]) while in 2015 a fewer number of the film rating was around 4.0 while most of the films were rating 4.5. Also the minimum rate changes from 2015 to 2016: before Hickey's analysis no film received a vote less than 2.5 while after the analysis this lower boundary decreases to 2.0. \n",
    "\n",
    "In both cases the same number of films got a rate of 3.0."
   ]
  },
  {
   "cell_type": "markdown",
   "metadata": {},
   "source": [
    "We could go more indepth by analyzing the frequency distribution table of the film ratings, as a percentage of the total number of films rated in each dataframe."
   ]
  },
  {
   "cell_type": "code",
   "execution_count": 18,
   "metadata": {},
   "outputs": [
    {
     "name": "stdout",
     "output_type": "stream",
     "text": [
      "Frequency distribution table for 2016:   \n",
      "4.0    0.403141\n",
      "4.5    0.246073\n",
      "3.5    0.240838\n",
      "3.0    0.073298\n",
      "2.5    0.031414\n",
      "5.0    0.005236\n",
      "Name: fandango_2016, dtype: float64\n"
     ]
    }
   ],
   "source": [
    "print('Frequency distribution table for 2016:   ')\n",
    "print(ratings_2016[\"fandango_2016\"].value_counts(normalize = True))"
   ]
  },
  {
   "cell_type": "code",
   "execution_count": 19,
   "metadata": {},
   "outputs": [
    {
     "name": "stdout",
     "output_type": "stream",
     "text": [
      "Frequency distribution table for 2015:   \n",
      "4.5    0.379845\n",
      "4.0    0.286822\n",
      "3.5    0.178295\n",
      "3.0    0.085271\n",
      "5.0    0.069767\n",
      "Name: fandango_2015, dtype: float64\n"
     ]
    }
   ],
   "source": [
    "print('Frequency distribution table for 2015:   ')\n",
    "print(ratings_2015[\"fandango_2015\"].value_counts(normalize = True))"
   ]
  },
  {
   "cell_type": "markdown",
   "metadata": {},
   "source": [
    "As expected frequency tables confirm what we found through the kernel density plots. Indeed from the tables one can find that the maximum percentage of films (38%) in 2015 had a rating value of 4.5, while in 2016 the maximum percentage of films (40%) had a rating value of 4.0. Moreover in 2016 we can still find some films associated to a rating value of 2.5, while in 2015 the minimum rating value is 3.0. \n",
    "If with the frequency distribution tables, we could confirm some observations made with the kernel density plot, in particular that there is a difference between the two distributions, these tables do not clarify the direction of such a difference. \n",
    "\n",
    "We could compute the mean, median and mode to say something about such a direction."
   ]
  },
  {
   "cell_type": "code",
   "execution_count": 20,
   "metadata": {},
   "outputs": [
    {
     "data": {
      "image/png": "[encoded data removed]",
      "text/plain": [
       "<Figure size 648x360 with 1 Axes>"
      ]
     },
     "metadata": {},
     "output_type": "display_data"
    }
   ],
   "source": [
    "# Compute mean, median and mode\n",
    "statistics = pd.DataFrame(columns=['stat', 'value', 'year'])\n",
    "statistics['value'] = [ratings_2015[\"fandango_2015\"].mean(), ratings_2016[\"fandango_2016\"].mean(), ratings_2015[\"fandango_2015\"].median(),ratings_2016[\"fandango_2016\"].median(),ratings_2015[\"fandango_2015\"].mode().values[0], ratings_2016[\"fandango_2016\"].mode().values[0] ]\n",
    "statistics['stat'] = ['mean', 'mean', 'median', 'median', 'mode', 'mode'] \n",
    "statistics['year'] = [2015, 2016,2015, 2016,2015, 2016] \n",
    "# Bar plot to compare the computed statistics\n",
    "plt.style.use('fivethirtyeight')\n",
    "plt.figure(figsize=(9,5))\n",
    "plt.style.use('fivethirtyeight')\n",
    "sns.barplot(x=\"stat\", y=\"value\", hue=\"year\", data=statistics)\n",
    "plt.title('Ratings Distribution')\n",
    "plt.xlabel('')\n",
    "plt.ylabel('')\n",
    "sns.set(font_scale=2)\n",
    "plt.legend(loc = 'lower right')\n",
    "plt.show()\n"
   ]
  },
  {
   "cell_type": "markdown",
   "metadata": {},
   "source": [
    "Statistics show better the direction of film rating difference from 2015 to 2016. It is indded possible to notice that the mean value of fim rating tend to slightly decrease in 2016 as well as the mode. Finally the median look the same in both years."
   ]
  },
  {
   "cell_type": "markdown",
   "metadata": {},
   "source": [
    "## Comparison among Different Websites for Film Ratings"
   ]
  },
  {
   "cell_type": "markdown",
   "metadata": {},
   "source": [
    "The *after_rating* dataset contains movie ratings data for 214 of the most popular movies reported by IMDB, Rotten Tomatoes, Metacritic and Fandago (with a significant number of votes) released in 2016 and 2017. In the *previous_rating* dataset we can find films rating related of the year 2014 (that is before Hickey's analysis), reported by the same webpages. \n",
    "**An interesting analysis would be to evaluate the differences between Fandago ratings and the ones reported by the other websites before and after Hickey's analysis. In this way we could compare how these differences change from one period to the other.**\n",
    "What we expect, according to the preliminary work of Hickey, is that first of all the *intra-period* differences (which we can define as the differences between Fandago ratings and the other websites ratings) decrease going from the period before Hickey's analysis to the one after. More so, we expect the *inter-period* differences (which we can define as the difference of the differences in the period before and after Hickey's analysis) to be statistically significant. "
   ]
  },
  {
   "cell_type": "code",
   "execution_count": 21,
   "metadata": {},
   "outputs": [],
   "source": [
    "# Compute mean and std for each websites's movie ratings in 2015\n",
    "web_sites = ['Fandango', 'IMDB', 'RottenTomatoes']\n",
    "x_pos = np.arange(len(web_sites))\n",
    "means = [ratings_2015['fandango_2015'].mean(), ratings_2015['imdb_2015'].mean(), ratings_2015['rottenTomatoes_2015'].mean()]\n",
    "stds = [ratings_2015['fandango_2015'].std(), ratings_2015['imdb_2015'].std(), ratings_2015['rottenTomatoes_2015'].std()]"
   ]
  },
  {
   "cell_type": "code",
   "execution_count": 22,
   "metadata": {},
   "outputs": [
    {
     "data": {
      "image/png": "[encoded data removed]",
      "text/plain": [
       "<Figure size 720x360 with 1 Axes>"
      ]
     },
     "metadata": {},
     "output_type": "display_data"
    }
   ],
   "source": [
    "# Build the plot\n",
    "plt.style.use('fivethirtyeight')\n",
    "fig, ax = plt.subplots(figsize=(10,5))\n",
    "ax.bar(x_pos, means, yerr=stds, align='center', alpha=0.5, ecolor='black', capsize=10)\n",
    "ax.set_ylabel('Ratings [0-5]')\n",
    "ax.set_xticks(x_pos)\n",
    "ax.set_xticklabels(web_sites)\n",
    "ax.set_title('Mean Ratings 2015')\n",
    "ax.yaxis.grid(True)\n",
    "\n",
    "# show\n",
    "plt.tight_layout()\n",
    "plt.show()"
   ]
  },
  {
   "cell_type": "code",
   "execution_count": 23,
   "metadata": {},
   "outputs": [],
   "source": [
    "# Compute mean and std for each websites's movie ratings in 2016\n",
    "web_sites = ['Fandango', 'IMDB', 'RottenTomatoes']\n",
    "x_pos = np.arange(len(web_sites))\n",
    "means = [ratings_2016['fandango_2016'].mean(), ratings_2016['imdb_2016'].mean(), ratings_2016['rottenTomatoes_2016'].mean()]\n",
    "stds = [ratings_2016['fandango_2016'].std(), ratings_2016['imdb_2016'].std(), ratings_2016['rottenTomatoes_2016'].std()]"
   ]
  },
  {
   "cell_type": "code",
   "execution_count": 24,
   "metadata": {},
   "outputs": [
    {
     "data": {
      "image/png": "[encoded data removed]",
      "text/plain": [
       "<Figure size 720x360 with 1 Axes>"
      ]
     },
     "metadata": {},
     "output_type": "display_data"
    }
   ],
   "source": [
    "# Build the plot\n",
    "plt.style.use('fivethirtyeight')\n",
    "fig, ax = plt.subplots(figsize=(10,5))\n",
    "ax.bar(x_pos, means, yerr=stds, align='center', alpha=0.5, ecolor='black', capsize=10)\n",
    "ax.set_ylabel('Ratings [0-5]')\n",
    "ax.set_xticks(x_pos)\n",
    "ax.set_xticklabels(web_sites)\n",
    "ax.set_title('Mean Ratings 2016')\n",
    "ax.yaxis.grid(True)\n",
    "\n",
    "# show\n",
    "plt.tight_layout()\n",
    "plt.show()"
   ]
  },
  {
   "cell_type": "markdown",
   "metadata": {},
   "source": [
    "As you can see, although the Fandango mean film ratings decreases from 2015 to 2016, it is still on average bigger than the ones reported by the other two websites.  "
   ]
  },
  {
   "cell_type": "markdown",
   "metadata": {},
   "source": [
    "## Conclusion"
   ]
  },
  {
   "cell_type": "markdown",
   "metadata": {},
   "source": [
    "The aim of this project was to investigate whether there has been any changes in Fandango's rating system after Hickey's analysis, in particular between the years 2015 and 2016. Through our analysis we showed that **there exist a variation of the film ratings** in Fandango between these two years and we reported that there was a **descrease in the mean ratings value in 2016 compared to the one in 2015**. This decrease may be related to the work of Hickey and to the fixing of the bug Fandango administrators found in the rating system. \n",
    "Although there has been such a decrease if one compare the mean film rating of Fandango with the ones of other popular websites, such as IMDB and RottenTomatoes, it is possible to notice that **Fandango mean rating value is always higher than the other ones**, that among each others are comparable. A deeper investigation may help understanding the reason behind these observation."
   ]
  }
 ],
 "metadata": {
  "kernelspec": {
   "display_name": "Python 2",
   "language": "python",
   "name": "python2"
  },
  "language_info": {
   "codemirror_mode": {
    "name": "ipython",
    "version": 2
   },
   "file_extension": ".py",
   "mimetype": "text/x-python",
   "name": "python",
   "nbconvert_exporter": "python",
   "pygments_lexer": "ipython2",
   "version": "2.7.15"
  }
 },
 "nbformat": 4,
 "nbformat_minor": 2
}
